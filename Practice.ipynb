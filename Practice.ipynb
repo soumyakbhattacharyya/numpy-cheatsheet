{
 "cells": [
  {
   "cell_type": "code",
   "execution_count": 11,
   "metadata": {},
   "outputs": [
    {
     "name": "stdout",
     "output_type": "stream",
     "text": [
      "[1 2 3 5 6]\n"
     ]
    }
   ],
   "source": [
    "import numpy as np\n",
    "import sys\n",
    "np_arr = np.array([1,2,3,5,6])\n",
    "print(np_arr)"
   ]
  },
  {
   "cell_type": "code",
   "execution_count": 5,
   "metadata": {},
   "outputs": [
    {
     "name": "stdout",
     "output_type": "stream",
     "text": [
      "[2 3]\n"
     ]
    }
   ],
   "source": [
    "# slicing\n",
    "print(np_arr[1:3:])"
   ]
  },
  {
   "cell_type": "code",
   "execution_count": 7,
   "metadata": {},
   "outputs": [
    {
     "name": "stdout",
     "output_type": "stream",
     "text": [
      "[5 6 6]\n"
     ]
    }
   ],
   "source": [
    "# selective multi indexing\n",
    "print(np_arr[[3,4,4]]) # note that the it is possible to pass a list of indices and extract out the element !!! the result is a numpy array"
   ]
  },
  {
   "cell_type": "code",
   "execution_count": 14,
   "metadata": {},
   "outputs": [
    {
     "name": "stdout",
     "output_type": "stream",
     "text": [
      "[8 7 4 3 2 4]\n",
      "int8\n"
     ]
    }
   ],
   "source": [
    "# forcing numpy to use a specific data type while storing the array instead of defaulting to what \n",
    "np_arr = np.array([8,7,4,3,2,4], dtype=np.int8)\n",
    "prn"
   ]
  },
  {
   "cell_type": "code",
   "execution_count": 26,
   "metadata": {},
   "outputs": [
    {
     "name": "stdout",
     "output_type": "stream",
     "text": [
      "2\n"
     ]
    }
   ],
   "source": [
    "# indexing and slicing of matrix\n",
    "# let's create a multi - dimentional array\n",
    "A = np.array([\n",
    "    [1, 2, 3],\n",
    "    [4, 5, 6]\n",
    "])\n",
    "print(A.ndim)"
   ]
  },
  {
   "cell_type": "code",
   "execution_count": 32,
   "metadata": {},
   "outputs": [
    {
     "name": "stdout",
     "output_type": "stream",
     "text": [
      "[4 5 6]\n",
      "4\n"
     ]
    }
   ],
   "source": [
    "# first element of the second row\n",
    "# second row\n",
    "print(A[1])\n",
    "# first element\n",
    "print(A[1][0])"
   ]
  },
  {
   "cell_type": "code",
   "execution_count": 39,
   "metadata": {},
   "outputs": [
    {
     "name": "stdout",
     "output_type": "stream",
     "text": [
      "4\n",
      "[[1]\n",
      " [4]]\n",
      "[[5 6]]\n",
      "[[2 3]\n",
      " [5 6]]\n"
     ]
    }
   ],
   "source": [
    "# dimension can be directly passed\n",
    "print(A[1,0])\n",
    "# note that what is getting passed is a slicing filter\n",
    "\n",
    "# example\n",
    "# I want first column of all rows\n",
    "print(A[:, 0:1:1])\n",
    "\n",
    "# I want last 2 elements of the second row\n",
    "print(A[1:2:1, 1::])\n",
    "\n",
    "# I want 2nd element from row and last elements from row\n",
    "print(A[::, 1::1])"
   ]
  },
  {
   "cell_type": "markdown",
   "metadata": {},
   "source": [
    "Start from here - https://youtu.be/r-uOLxNrNk8?list=LLgVR1SyyjIHjApjgic1zD4A&t=5999"
   ]
  }
 ],
 "metadata": {
  "kernelspec": {
   "display_name": "Python 3",
   "language": "python",
   "name": "python3"
  },
  "language_info": {
   "codemirror_mode": {
    "name": "ipython",
    "version": 3
   },
   "file_extension": ".py",
   "mimetype": "text/x-python",
   "name": "python",
   "nbconvert_exporter": "python",
   "pygments_lexer": "ipython3",
   "version": "3.8.1"
  }
 },
 "nbformat": 4,
 "nbformat_minor": 4
}
